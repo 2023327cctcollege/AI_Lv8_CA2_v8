{
 "cells": [
  {
   "cell_type": "markdown",
   "id": "819d6701-d545-4f9b-94a6-97f36dcff5fd",
   "metadata": {},
   "source": [
    "# AI_Lv8_CA2_v8\n",
    "\n",
    "**CCT College Dublin**  \n",
    "**Bachelor of Science Honours in Computing in Information Technology**  \n",
    "**Introduction to Artificial Intelligence - Y4M1**  \n",
    "**Year 4, Semester 7**  \n",
    "**Continuous Assessment 2**\n",
    "\n",
    "**Lecturer name:** David McQuaid  \n",
    "**Lecturer email:** dmcquaid@cct.ie\n",
    "\n",
    "**Student Name:** Mateus Fonseca Campos  \n",
    "**Student Number:** 2023327  \n",
    "**Student Email:** 2023327@student.cct.ie\n",
    "\n",
    "**Submission date:** 17 November 2023"
   ]
  },
  {
   "attachments": {},
   "cell_type": "markdown",
   "id": "4e1c379d-672c-4c86-b831-8f0f1d3cd6bb",
   "metadata": {},
   "source": [
    "#### Questions\n",
    "\n",
    "1. A puzzle has multiple ways of reaching the end solution. Fig. 1 shows a graph that represents all possible routes to the solution. The starting point of the game is represented by A, the solution is represented by S. The other points in the graph are possible intermediary stages.\n",
    "\n",
    "| <img src=\"./img/fig_1.png\" width=500 /> |\n",
    "| :-: |\n",
    "| *Fig. 1* |"
   ]
  },
  {
   "cell_type": "markdown",
   "id": "4103c92b-b204-4677-b02b-eec42df0426e",
   "metadata": {},
   "source": [
    "&emsp;&emsp;(a) The graph in Fig. 1 is a visualisation of the problem.  \n",
    "&emsp;&emsp;&emsp;(i) Identify the differences between a graph and a tree. [0-5]"
   ]
  },
  {
   "cell_type": "code",
   "execution_count": null,
   "id": "61d2c90b-77f0-4bf6-8450-2f8ce0b0bf68",
   "metadata": {},
   "outputs": [],
   "source": []
  },
  {
   "cell_type": "markdown",
   "id": "aec87528-2d8f-4cf0-a455-03687f0dcbf1",
   "metadata": {},
   "source": [
    "&emsp;&emsp;&emsp;(ii) Explain in detail how the graph is an abstraction of the problem. [0-5]"
   ]
  },
  {
   "cell_type": "code",
   "execution_count": null,
   "id": "b6823fa3-2a20-4cf0-a0e6-3d1499abdd35",
   "metadata": {},
   "outputs": [],
   "source": []
  },
  {
   "cell_type": "markdown",
   "id": "b4796b8c-60bd-4d97-a5db-5a1da4379203",
   "metadata": {},
   "source": [
    "&emsp;&emsp;&emsp;(iii) Identify the advantages of using a visualisation such as the one shown in Fig. 1. [0-5]"
   ]
  },
  {
   "cell_type": "code",
   "execution_count": null,
   "id": "7406d06a-e82c-4f6d-9384-175df98c7bd6",
   "metadata": {},
   "outputs": [],
   "source": []
  },
  {
   "cell_type": "markdown",
   "id": "5238aeb9-a532-48a9-b05f-02b4e0f20d99",
   "metadata": {},
   "source": [
    "&emsp;&emsp;(b) Demonstrate how Dijkstra’s algorithm would find the shortest path to the solution in Fig.1 through diagrams and written explanation of each stage. [0-25]"
   ]
  },
  {
   "cell_type": "code",
   "execution_count": null,
   "id": "1b8007ab-67c3-478d-bc09-39eb2174c044",
   "metadata": {},
   "outputs": [],
   "source": []
  },
  {
   "cell_type": "markdown",
   "id": "b98d5beb-0d90-496e-b256-6e1f34894ac0",
   "metadata": {},
   "source": [
    "2. The creator of the puzzle has been told that the A* algorithm is more efficient at finding the shortest path because it uses heuristics. Compare the performance of Dijkstra’s algorithm and the A* search algorithm, referring to heuristics, to find the shortest path to the problem by implementing both algorithms programmatically and comparing the solutions generated in Mark-down. Refer to the complexity of the algorithms and compare the actual time it takes for the solutions to be processed. [0-60]"
   ]
  },
  {
   "cell_type": "code",
   "execution_count": null,
   "id": "62188fb9-8146-42c4-b03d-b11f64d2def5",
   "metadata": {},
   "outputs": [],
   "source": []
  }
 ],
 "metadata": {
  "kernelspec": {
   "display_name": "Python 3 (ipykernel)",
   "language": "python",
   "name": "python3"
  },
  "language_info": {
   "codemirror_mode": {
    "name": "ipython",
    "version": 3
   },
   "file_extension": ".py",
   "mimetype": "text/x-python",
   "name": "python",
   "nbconvert_exporter": "python",
   "pygments_lexer": "ipython3",
   "version": "3.11.4"
  }
 },
 "nbformat": 4,
 "nbformat_minor": 5
}
